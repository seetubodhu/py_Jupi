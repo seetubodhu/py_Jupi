{
 "cells": [
  {
   "cell_type": "code",
   "execution_count": 1,
   "id": "cc1f8a1a-61bc-4caa-ace3-54324574d0a3",
   "metadata": {},
   "outputs": [
    {
     "data": {
      "text/plain": [
       "2"
      ]
     },
     "execution_count": 1,
     "metadata": {},
     "output_type": "execute_result"
    }
   ],
   "source": [
    "1+1"
   ]
  },
  {
   "cell_type": "code",
   "execution_count": 2,
   "id": "c39a7330-c6bc-4a2c-84f0-580ba72d7e91",
   "metadata": {},
   "outputs": [
    {
     "data": {
      "text/plain": [
       "'abcfefsd'"
      ]
     },
     "execution_count": 2,
     "metadata": {},
     "output_type": "execute_result"
    }
   ],
   "source": [
    "\"abc\"+\"fefsd\""
   ]
  },
  {
   "cell_type": "code",
   "execution_count": 3,
   "id": "0e3e5cd5-d899-4960-9127-3dc939097d02",
   "metadata": {
    "jp-MarkdownHeadingCollapsed": true,
    "tags": []
   },
   "outputs": [
    {
     "data": {
      "text/plain": [
       "8"
      ]
     },
     "execution_count": 3,
     "metadata": {},
     "output_type": "execute_result"
    }
   ],
   "source": [
    "2**3"
   ]
  },
  {
   "cell_type": "code",
   "execution_count": 4,
   "id": "3f21ab42-3ede-4338-a1bf-c896570a466f",
   "metadata": {},
   "outputs": [
    {
     "data": {
      "text/plain": [
       "16"
      ]
     },
     "execution_count": 4,
     "metadata": {},
     "output_type": "execute_result"
    }
   ],
   "source": [
    "50//3"
   ]
  },
  {
   "cell_type": "code",
   "execution_count": 5,
   "id": "9eee7b3c-c9bc-423d-95c0-e9ab8bfebc7b",
   "metadata": {},
   "outputs": [
    {
     "data": {
      "text/plain": [
       "1"
      ]
     },
     "execution_count": 5,
     "metadata": {},
     "output_type": "execute_result"
    }
   ],
   "source": [
    "7%3"
   ]
  },
  {
   "cell_type": "code",
   "execution_count": 6,
   "id": "59360c88-e3ad-497a-a5c6-633144f89f47",
   "metadata": {},
   "outputs": [],
   "source": [
    "#jdfhdkjhgkdfjhg"
   ]
  },
  {
   "cell_type": "code",
   "execution_count": 7,
   "id": "19713184-2d8e-4c94-a40a-ad9041407e25",
   "metadata": {},
   "outputs": [],
   "source": [
    "a,b,c = 10,11,12"
   ]
  },
  {
   "cell_type": "code",
   "execution_count": 8,
   "id": "36dc12e1-91c3-4de7-a278-3a0eeef43d44",
   "metadata": {},
   "outputs": [
    {
     "name": "stdout",
     "output_type": "stream",
     "text": [
      "10 11 12\n"
     ]
    }
   ],
   "source": [
    "print(a,b,c)"
   ]
  },
  {
   "cell_type": "code",
   "execution_count": null,
   "id": "d66b064d-b87d-4d4e-b0cc-ce9e3cb8dc96",
   "metadata": {},
   "outputs": [],
   "source": []
  },
  {
   "cell_type": "code",
   "execution_count": 10,
   "id": "9148101f-63b2-4b08-bf3c-f8697ac04714",
   "metadata": {},
   "outputs": [
    {
     "name": "stdout",
     "output_type": "stream",
     "text": [
      "sdfsdf\n"
     ]
    }
   ],
   "source": [
    "print(\"sdfsdf\")"
   ]
  },
  {
   "cell_type": "code",
   "execution_count": 13,
   "id": "c265d450-35d2-43af-aed5-a35870f96f49",
   "metadata": {},
   "outputs": [
    {
     "data": {
      "text/plain": [
       "\"I' am into data science\""
      ]
     },
     "execution_count": 13,
     "metadata": {},
     "output_type": "execute_result"
    }
   ],
   "source": [
    "\"I' am into data science\""
   ]
  },
  {
   "cell_type": "code",
   "execution_count": 15,
   "id": "10e1e311-9c7a-4723-b203-c534594a0549",
   "metadata": {},
   "outputs": [],
   "source": [
    "ques=\"Sfsdfsdf\"\n",
    "ans=\"DSsf\""
   ]
  },
  {
   "cell_type": "code",
   "execution_count": 16,
   "id": "bd64a57c-d375-4767-8f76-220326e65cb7",
   "metadata": {},
   "outputs": [
    {
     "data": {
      "text/plain": [
       "'SfsdfsdfDSsf'"
      ]
     },
     "execution_count": 16,
     "metadata": {},
     "output_type": "execute_result"
    }
   ],
   "source": [
    "ques+ans"
   ]
  },
  {
   "cell_type": "code",
   "execution_count": 17,
   "id": "27b94168-7878-44cc-acfb-5bc0422e8521",
   "metadata": {},
   "outputs": [
    {
     "data": {
      "text/plain": [
       "'Sfsdfsdf'"
      ]
     },
     "execution_count": 17,
     "metadata": {},
     "output_type": "execute_result"
    }
   ],
   "source": [
    "ques"
   ]
  },
  {
   "cell_type": "code",
   "execution_count": 19,
   "id": "a966d742-889d-4d9e-8fda-be8d8ed9ff9d",
   "metadata": {},
   "outputs": [
    {
     "data": {
      "text/plain": [
       "str"
      ]
     },
     "execution_count": 19,
     "metadata": {},
     "output_type": "execute_result"
    }
   ],
   "source": [
    "type(ques)"
   ]
  },
  {
   "cell_type": "code",
   "execution_count": 20,
   "id": "726a1487-7daa-48bf-8603-cf144020b01a",
   "metadata": {},
   "outputs": [
    {
     "data": {
      "text/plain": [
       "8"
      ]
     },
     "execution_count": 20,
     "metadata": {},
     "output_type": "execute_result"
    }
   ],
   "source": [
    "len(ques)"
   ]
  },
  {
   "cell_type": "code",
   "execution_count": 21,
   "id": "27396233-dc40-436c-9be5-2b446e902b6d",
   "metadata": {},
   "outputs": [],
   "source": [
    "a=\"    dfdfgfdg    \""
   ]
  },
  {
   "cell_type": "code",
   "execution_count": 22,
   "id": "0ffe00ab-5e9b-4a42-940d-e45b53e180bc",
   "metadata": {},
   "outputs": [
    {
     "ename": "NameError",
     "evalue": "name 'strip' is not defined",
     "output_type": "error",
     "traceback": [
      "\u001b[1;31m---------------------------------------------------------------------------\u001b[0m",
      "\u001b[1;31mNameError\u001b[0m                                 Traceback (most recent call last)",
      "\u001b[1;32m~\\AppData\\Local\\Temp\\ipykernel_2008\\3492293674.py\u001b[0m in \u001b[0;36m<module>\u001b[1;34m\u001b[0m\n\u001b[1;32m----> 1\u001b[1;33m \u001b[0mstrip\u001b[0m\u001b[1;33m(\u001b[0m\u001b[0ma\u001b[0m\u001b[1;33m)\u001b[0m\u001b[1;33m\u001b[0m\u001b[1;33m\u001b[0m\u001b[0m\n\u001b[0m",
      "\u001b[1;31mNameError\u001b[0m: name 'strip' is not defined"
     ]
    }
   ],
   "source": [
    "strip(a)"
   ]
  },
  {
   "cell_type": "code",
   "execution_count": null,
   "id": "ca189550-f8ea-49b3-8fe4-a04fbc749c2b",
   "metadata": {},
   "outputs": [],
   "source": []
  }
 ],
 "metadata": {
  "kernelspec": {
   "display_name": "Python 3 (ipykernel)",
   "language": "python",
   "name": "python3"
  },
  "language_info": {
   "codemirror_mode": {
    "name": "ipython",
    "version": 3
   },
   "file_extension": ".py",
   "mimetype": "text/x-python",
   "name": "python",
   "nbconvert_exporter": "python",
   "pygments_lexer": "ipython3",
   "version": "3.9.13"
  }
 },
 "nbformat": 4,
 "nbformat_minor": 5
}
